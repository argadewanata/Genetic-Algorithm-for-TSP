{
  "nbformat": 4,
  "nbformat_minor": 0,
  "metadata": {
    "colab": {
      "provenance": [],
      "private_outputs": true
    },
    "kernelspec": {
      "name": "python3",
      "display_name": "Python 3"
    },
    "language_info": {
      "name": "python"
    },
    "gpuClass": "standard"
  },
  "cells": [
    {
      "cell_type": "markdown",
      "source": [
        "# Final Project KK : Implementasi Artikel\n",
        "\n",
        "Anggota Kelompok 1:\n",
        "1. Maheswara Danendra Satriananda (5025201060)\n",
        "2. Rere Arga Dewanata (5025201078)\n",
        "3. Andhika Ditya Bagaskara D. (5025201096)\n",
        "4. Naufal Faadhilah (5025201221)\n",
        "\n",
        "Artikel Referensi:  \n",
        "A Powerful Genetic Algorithm for Traveling Salesman Problem\n",
        "\n",
        "Dataset:  \n",
        "USA Latitude Longitude States\n",
        "([LinkDataset](https://www.kaggle.com/datasets/washimahmed/usa-latlong-for-state-abbreviations?resource=download))\n",
        "\n"
      ],
      "metadata": {
        "id": "PoL1CM5-H0Hh"
      }
    },
    {
      "cell_type": "markdown",
      "source": [
        "## Tahap Persiapan Dataset"
      ],
      "metadata": {
        "id": "DrN9lVugOcJD"
      }
    },
    {
      "cell_type": "code",
      "source": [
        "# Import library yang dibutuhkan\n",
        "import pandas as pd\n",
        "import numpy as np\n",
        "import random\n",
        "import operator\n",
        "import matplotlib.pyplot as plt\n",
        "import seaborn as sns"
      ],
      "metadata": {
        "id": "o7q1LDqXJ_Yu"
      },
      "execution_count": null,
      "outputs": []
    },
    {
      "cell_type": "code",
      "source": [
        "# Melakukan pembacaan dataset\n",
        "path_state = \"/content/US-States.csv\"\n",
        "df_state = pd.read_csv(path_state)\n",
        "df_state.head()"
      ],
      "metadata": {
        "id": "GASjNQvamCk8"
      },
      "execution_count": null,
      "outputs": []
    },
    {
      "cell_type": "code",
      "source": [
        "# Mengubah Longitude dan Latitude menjadi format sumbu kartesian (x,y)\n",
        "# x = RadiusBumi * cos( radiance(lat) ) * cos(radiance (lon))\n",
        "# y = RadiusBumi * cos( radiance(lat) ) * sin(radiance (lon))\n",
        "from math import radians,cos,sin\n",
        "\n",
        "EARTH_RADIUS = 6371\n",
        "lat = df_state[\"Latitude\"].map(radians)\n",
        "lon = df_state[\"Longitude\"].map(radians)\n",
        "x   = lon.map(cos)*lat.map(cos)*EARTH_RADIUS\n",
        "y   = lon.map(cos)*lat.map(sin)*EARTH_RADIUS\n",
        "\n",
        "df_state[\"lat_radians\"] = lat\n",
        "df_state[\"lon_radians\"] = lon\n",
        "df_state[\"x\"] = x\n",
        "df_state[\"y\"] = y\n",
        "df_state.head()"
      ],
      "metadata": {
        "id": "VihG_QgM0OgI"
      },
      "execution_count": null,
      "outputs": []
    },
    {
      "cell_type": "code",
      "source": [
        "# Mendapatkan informasi general dataset\n",
        "df_state.info()"
      ],
      "metadata": {
        "id": "nJPcZ4C1zbVp"
      },
      "execution_count": null,
      "outputs": []
    },
    {
      "cell_type": "code",
      "source": [
        "# Mengecek apabila terdapat data yang \"null\" pada setiap kolom\n",
        "df_state.isnull().sum()"
      ],
      "metadata": {
        "id": "FXkJQdRdzgzL"
      },
      "execution_count": null,
      "outputs": []
    },
    {
      "cell_type": "code",
      "source": [
        "# Mengecek apabila terdapat baris yang duplikat \n",
        "df_state.duplicated().sum()"
      ],
      "metadata": {
        "id": "nNISTKC0zkgX"
      },
      "execution_count": null,
      "outputs": []
    },
    {
      "cell_type": "code",
      "source": [
        "# Membuat dataframe baru yang hanya berisi kolom x dan y\n",
        "df_statepos = df_state.drop([\"State\", \"Latitude\", \"Longitude\", \"City\",\"lat_radians\", \"lon_radians\"], 1)\n",
        "df_statepos.head()"
      ],
      "metadata": {
        "id": "dMoLMlF31dIN"
      },
      "execution_count": null,
      "outputs": []
    },
    {
      "cell_type": "code",
      "source": [
        "# Fungsi untuk menghitung jarak antara 2 states\n",
        "def distance_between_states(states):\n",
        "    data = dict()\n",
        "    for index, value in enumerate(states):\n",
        "        x1 = states[index][0]\n",
        "        y1 = states[index][1]\n",
        "        if index + 1 <= len(states)-1:\n",
        "            x2 = states[index+1][0]\n",
        "            y2 = states[index+1][1]\n",
        "            xdiff = x2 - x1\n",
        "            ydiff = y2 - y1\n",
        "            dst = (xdiff*xdiff + ydiff*ydiff)** 0.5\n",
        "            data['Distance from state '+ str(index+1) +' to state ' + str(index+2)] = dst \n",
        "        elif index + 1 > len(states)-1:\n",
        "            x2 = states[0][0]\n",
        "            y2 = states[0][1]\n",
        "            xdiff = x2 - x1\n",
        "            ydiff = y2 - y1\n",
        "            dst = (xdiff*xdiff + ydiff*ydiff)** 0.5\n",
        "            data['Distance from state '+ str(index+1) + ' to state ' + str(index +2 -len(states))] = dst\n",
        "    print(data)          \n",
        "    return data"
      ],
      "metadata": {
        "id": "kvUTB0fp1ZkY"
      },
      "execution_count": null,
      "outputs": []
    },
    {
      "cell_type": "code",
      "source": [
        "# Fungsi untuk menghitung total jarak yang dibutuhkan\n",
        "def total_distance(states):\n",
        "    total = sum(distance_between_states(states).values())\n",
        "    return total"
      ],
      "metadata": {
        "id": "pbjjshsR4OKH"
      },
      "execution_count": null,
      "outputs": []
    },
    {
      "cell_type": "code",
      "source": [
        "# Mengubah dataframe menjadi sebuah list\n",
        "state_list = df_statepos.values.tolist()\n",
        "print(state_list)"
      ],
      "metadata": {
        "id": "sr9luFwt31I_"
      },
      "execution_count": null,
      "outputs": []
    },
    {
      "cell_type": "code",
      "source": [
        "# Menghitung jarak antara dua state\n",
        "val = distance_between_states(state_list).values()\n",
        "print(val)"
      ],
      "metadata": {
        "id": "r4stAM0l3SU8"
      },
      "execution_count": null,
      "outputs": []
    },
    {
      "cell_type": "code",
      "source": [
        "# Menghitung jarak total \n",
        "total_distance(state_list)"
      ],
      "metadata": {
        "id": "h8IeWSPc4AHI"
      },
      "execution_count": null,
      "outputs": []
    },
    {
      "cell_type": "code",
      "source": [
        "# Fungsi untuk menghasilkan path random \n",
        "def generatePath(states):\n",
        "    path = random.sample(states, len(states))\n",
        "    return path"
      ],
      "metadata": {
        "id": "5aVJm2wu5NgT"
      },
      "execution_count": null,
      "outputs": []
    },
    {
      "cell_type": "code",
      "source": [
        "# Membuat path random \n",
        "list = generatePath(state_list)\n",
        "print(list)"
      ],
      "metadata": {
        "id": "xijaJvvN5zzG"
      },
      "execution_count": null,
      "outputs": []
    },
    {
      "cell_type": "code",
      "source": [
        "# Melakukan visualisasi plotting jarak random pada setiap state\n",
        "state_names = df_state[\"State\"]\n",
        "def plot_pop(states):\n",
        "    plt.figure(figsize=(20,10))\n",
        "    x = [i[0] for i in states]\n",
        "    y = [i[1] for i in states]\n",
        "    x1=[x[0],x[-1]]\n",
        "    y1=[y[0],y[-1]]\n",
        "    plt.plot(x, y, 'b', x1, y1, 'b')\n",
        "    plt.scatter (x, y)\n",
        "    j = df_statepos[\"x\"]\n",
        "    k = df_statepos[\"y\"]\n",
        "    \n",
        "    for i, txt in enumerate(state_names):\n",
        "        plt.annotate(txt, (j[i], k[i]),horizontalalignment='center', verticalalignment='bottom')\n",
        "    plt.show()\n",
        "    return\n",
        "plot_pop(list) "
      ],
      "metadata": {
        "id": "z6U5aM3_6CFw"
      },
      "execution_count": null,
      "outputs": []
    },
    {
      "cell_type": "code",
      "source": [
        "# Menghasilkan Populasi awal\n",
        "def initialPopulation(states, populationSize):\n",
        "    population = [generatePath(states) for i in range(0, populationSize)]\n",
        "    return population\n",
        "\n",
        "n_population = 10\n",
        "population = initialPopulation(state_list,n_population)\n",
        "print(population)"
      ],
      "metadata": {
        "id": "rVBF20Iw7hf0"
      },
      "execution_count": null,
      "outputs": []
    },
    {
      "cell_type": "code",
      "source": [
        "for idx, pop_plot in enumerate (population):\n",
        "    print('Initial Population '+ str(idx),pop_plot)"
      ],
      "metadata": {
        "id": "pzewp4Kh9_e4"
      },
      "execution_count": null,
      "outputs": []
    },
    {
      "cell_type": "code",
      "source": [
        "# Visualisasi pada populasi awal\n",
        "for pop_plot in population:\n",
        "    plot_pop(pop_plot)"
      ],
      "metadata": {
        "id": "ftUBu83v-M1c"
      },
      "execution_count": null,
      "outputs": []
    },
    {
      "cell_type": "code",
      "source": [
        "# Menentukan nilai path fitness\n",
        "def path_fitness(states):\n",
        "    total_dis = total_distance(states)\n",
        "    fitness= 0.0\n",
        "    if fitness == 0:\n",
        "        fitness = 1 / float(total_dis)\n",
        "    return fitness\n",
        "path_fitness(state_list)"
      ],
      "metadata": {
        "id": "GVMQtnnE_Tbr"
      },
      "execution_count": null,
      "outputs": []
    },
    {
      "cell_type": "code",
      "source": [
        "# Mengurutkan fitness path dari yang terbesar\n",
        "def rankPathes(population):\n",
        "    fitnessResults = {}\n",
        "    for i in range(len(population)):\n",
        "        fitnessResults[i] = path_fitness(population[i])\n",
        "        \n",
        "    return sorted(fitnessResults.items(), key = operator.itemgetter(1), reverse = True)\n",
        "rankPathes(population)"
      ],
      "metadata": {
        "id": "1EjEi-acDSjk"
      },
      "execution_count": null,
      "outputs": []
    },
    {
      "cell_type": "code",
      "source": [
        "# Membuat fungsi untuk seleksi\n",
        "def perform_selection(pop, eliteSize):\n",
        "    df = pd.DataFrame(np.array(pop), columns=[\"Index\",\"Fitness\"])\n",
        "    df['cumulative_sum'] = df.Fitness.cumsum()\n",
        "    df['cumulative_percentage'] = 100*df.cumulative_sum/df.Fitness.sum()\n",
        "    selected_values = [pop[i][0] for i in range(eliteSize)]\n",
        "    \n",
        "    for i in range(len(pop) - eliteSize):\n",
        "        pick = 100*random.random()\n",
        "        for i in range(0, len(pop)):\n",
        "            if pick <= df.iat[i,3]:\n",
        "                selected_values.append(pop[i][0])\n",
        "                break\n",
        "                \n",
        "    return selected_values"
      ],
      "metadata": {
        "id": "jFHcfZC1EKeb"
      },
      "execution_count": null,
      "outputs": []
    },
    {
      "cell_type": "code",
      "source": [
        "out11 = rankPathes(population)\n",
        "selected_values = perform_selection(out11,5)\n",
        "print(selected_values)"
      ],
      "metadata": {
        "id": "6RE4ENfdExNX"
      },
      "execution_count": null,
      "outputs": []
    },
    {
      "cell_type": "code",
      "source": [
        "def do_mating_pool(population, selected_values):\n",
        "    matingpool = [population[selected_values[i]] for i in range(len(selected_values))]\n",
        "    return matingpool\n",
        "mp = do_mating_pool(population, selected_values)"
      ],
      "metadata": {
        "id": "89B8z4CwFINR"
      },
      "execution_count": null,
      "outputs": []
    },
    {
      "cell_type": "code",
      "source": [
        "# Membuat fungsi untuk melakukan perkawinan\n",
        "def do_breed(first_parent, second_parent):\n",
        "    generation_1= int(random.random() * len(first_parent))\n",
        "    generation_2 = int(random.random() * len(second_parent))\n",
        "    \n",
        "    first_generation = min(generation_1, generation_2)\n",
        "    last_generation = max(generation_1, generation_2)\n",
        "\n",
        "    tot_parent1 = [first_parent[i] for i in range(first_generation, last_generation)]\n",
        "    tot_parent2 = [i for i in second_parent if i not in tot_parent1]\n",
        "\n",
        "    tot = tot_parent1 + tot_parent2\n",
        "    return tot"
      ],
      "metadata": {
        "id": "kon9o91iFYmP"
      },
      "execution_count": null,
      "outputs": []
    },
    {
      "cell_type": "code",
      "source": [
        "# Melakukan perkawinan pada populasi\n",
        "def do_breed_population(my_mating_pool, eliteSize):\n",
        "    ln = len(my_mating_pool) - eliteSize\n",
        "    pl = random.sample(my_mating_pool, len(my_mating_pool))\n",
        "    tot1 = [my_mating_pool[i] for i in range(eliteSize)]\n",
        "    tot2 = [do_breed(pl[i], pl[len(my_mating_pool)-i-1]) for i in range(ln)]\n",
        "    tot = tot1+tot2\n",
        "    return tot\n",
        "do_breed_population(mp,2)"
      ],
      "metadata": {
        "id": "pANG78XjFg6T"
      },
      "execution_count": null,
      "outputs": []
    },
    {
      "cell_type": "code",
      "source": [
        "# Membuat fungsi untuk mutation\n",
        "def do_mutation(indiv, mutat_rate):\n",
        "    for exchanged in range(len(indiv)):\n",
        "        if(random.random() < mutat_rate):\n",
        "            exchanged_with = int(random.random() * len(indiv))\n",
        "            \n",
        "            city1 = indiv[exchanged]\n",
        "            city2 = indiv[exchanged_with]\n",
        "            \n",
        "            indiv[exchanged] = city2\n",
        "            indiv[exchanged_with] = city1\n",
        "    return indiv"
      ],
      "metadata": {
        "id": "EUzHt_VzFqHa"
      },
      "execution_count": null,
      "outputs": []
    },
    {
      "cell_type": "code",
      "source": [
        "# membuat fungsi mutation population\n",
        "def do_mutation_pop(population, mutat_rate):\n",
        "    mutated_population = [do_mutation(population[i], mutat_rate) for i in range(len(population))]\n",
        "    return mutated_population\n",
        "\n",
        "mutation_rate = 0.1   \n",
        "do_mutation_pop(population, mutation_rate)"
      ],
      "metadata": {
        "id": "ukTNIBr4FwcL"
      },
      "execution_count": null,
      "outputs": []
    },
    {
      "cell_type": "code",
      "source": [
        "# Mendapatkan gen yang berikutnya\n",
        "def get_following_gen(existing_gen, eliteSize, mutat_rate):\n",
        "    pop = rankPathes(existing_gen)\n",
        "    selected_values = perform_selection(pop, eliteSize)\n",
        "    my_mating_pool = do_mating_pool(existing_gen, selected_values)\n",
        "    tot = do_breed_population(my_mating_pool, eliteSize)\n",
        "    following_gen = do_mutation(tot, mutat_rate)\n",
        "    return following_gen\n",
        "get_following_gen(population, 5, mutation_rate)"
      ],
      "metadata": {
        "id": "y8Cz4HZcGMJ_"
      },
      "execution_count": null,
      "outputs": []
    },
    {
      "cell_type": "code",
      "source": [
        "def get_names(result_lst, states, name_lst):\n",
        "    names = []\n",
        "    for index,value in enumerate(result_lst):\n",
        "        for i,v in enumerate(states):\n",
        "            if value == v:\n",
        "                names.append(name_lst[i])\n",
        "    return names"
      ],
      "metadata": {
        "id": "1t4Ts68sHdbz"
      },
      "execution_count": null,
      "outputs": []
    },
    {
      "cell_type": "code",
      "source": [
        "def GA(state_names,states, population_size, eliteSize, mutat_rate, generations):\n",
        "    population = initialPopulation(states,population_size)\n",
        "    print(\"Incipient distance: \" + str(1 / rankPathes(population)[0][1]))\n",
        "    for i in range(generations):\n",
        "        population = get_following_gen(population, eliteSize, mutat_rate)\n",
        "    \n",
        "    print(\"Eventual distance: \" + str(1 / rankPathes(population)[0][1]))\n",
        "    optimal_route_id = rankPathes(population)[0][0]\n",
        "    optimal_route = population[optimal_route_id]\n",
        "    ordered_states = get_names(optimal_route,states,state_names)\n",
        "    print([(indx,val) for indx,val in enumerate(ordered_states)])\n",
        "    plot_pop(optimal_route)\n",
        "    return optimal_route\n",
        "\n",
        "result_lst = GA(state_names,state_list, population_size=100, \n",
        "                 eliteSize=5, mutat_rate=0.1, \n",
        "                 generations=500)"
      ],
      "metadata": {
        "id": "hLdwuavYHhnx"
      },
      "execution_count": null,
      "outputs": []
    }
  ]
}